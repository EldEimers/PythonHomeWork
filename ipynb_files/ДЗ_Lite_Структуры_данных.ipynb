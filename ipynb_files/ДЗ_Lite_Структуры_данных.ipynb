{
  "cells": [
    {
      "cell_type": "markdown",
      "metadata": {
        "id": "zVGn3hIr_Ms-"
      },
      "source": [
        "**Задание 1.**\n",
        "\n",
        "Создайте список с числами от 15 до 30 включительно с помощью цикла `for`.\n",
        "\n",
        "Защитите от изменений этот список, преобразовав его в иную структуру данных.\n",
        "\n",
        "Продемонстрируйте неизменяемость данных в ней попыткой изменить предпоследний элемент, при этом взяв его по отрицательному индексу."
      ]
    },
    {
      "cell_type": "code",
      "execution_count": 1,
      "metadata": {
        "id": "MDvlKMW5FJJD"
      },
      "outputs": [
        {
          "name": "stdout",
          "output_type": "stream",
          "text": [
            "[15, 16, 17, 18, 19, 20, 21, 22, 23, 24, 25, 26, 27, 28, 29, 30]\n",
            "{15, 16, 17, 18, 19, 20, 21, 22, 23, 24, 25, 26, 27, 28, 29, 30}\n"
          ]
        }
      ],
      "source": [
        "# ваше решение\n",
        "my_lst = []\n",
        "for i in range(15, 31):\n",
        "    my_lst.append(i)\n",
        "print(my_lst)\n",
        "\n",
        "my_set = set(my_lst)\n",
        "print(my_set)\n",
        "# my_set[-2] = 1"
      ]
    },
    {
      "cell_type": "markdown",
      "metadata": {
        "id": "PAHDyNO73pue"
      },
      "source": [
        "**Задание 2.**\n",
        "\n",
        "Создайте список четных чисел в диапазоне от 10 до 30 включительно, используя List comprehencion и если число кратно числу 3, то вместо него поставить слово 'ДА'"
      ]
    },
    {
      "cell_type": "code",
      "execution_count": 2,
      "metadata": {
        "id": "M8w3AK8Q8jnb"
      },
      "outputs": [
        {
          "name": "stdout",
          "output_type": "stream",
          "text": [
            "[12, 'ДА', 18, 'ДА', 24, 'ДА', 30]\n",
            "[10, 12, 14, 'ДА', 16, 18, 20, 'ДА', 22, 24, 26, 'ДА', 28, 30]\n"
          ]
        }
      ],
      "source": [
        "# ваше решение\n",
        "# def funcPASS():\n",
        "#     pass\n",
        "\n",
        "'''\n",
        "Только с костылём получилась реализация с List Comprehencion\n",
        "'''\n",
        "\n",
        "my_lstCMPR = [i if i % 2 == 0 else \"ДА\" for i in range(10, 31) if i % 3 == 0]\n",
        "print(my_lstCMPR)\n",
        "\n",
        "'''\n",
        "Ниже реализация без List Comprehencion, которая получилась изначально\n",
        "\n",
        "'''\n",
        "\n",
        "my_lst2 = []\n",
        "for i in range(10, 31):\n",
        "    if i % 2 == 0:\n",
        "        my_lst2.append(i)\n",
        "    elif i % 3 == 0:\n",
        "        my_lst2.append(\"ДА\")\n",
        "    else:\n",
        "        continue\n",
        "print(my_lst2)"
      ]
    }
  ],
  "metadata": {
    "colab": {
      "provenance": []
    },
    "kernelspec": {
      "display_name": "Python 3",
      "name": "python3"
    },
    "language_info": {
      "codemirror_mode": {
        "name": "ipython",
        "version": 3
      },
      "file_extension": ".py",
      "mimetype": "text/x-python",
      "name": "python",
      "nbconvert_exporter": "python",
      "pygments_lexer": "ipython3",
      "version": "3.11.5"
    }
  },
  "nbformat": 4,
  "nbformat_minor": 0
}
