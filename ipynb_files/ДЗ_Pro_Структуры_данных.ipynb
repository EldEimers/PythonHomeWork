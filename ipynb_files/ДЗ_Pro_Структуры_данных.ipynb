{
  "cells": [
    {
      "cell_type": "markdown",
      "metadata": {
        "id": "bHZBF4qq_ktC"
      },
      "source": [
        "**Задание 1.**\n",
        "\n",
        "Создайте произвольный список длиной 5 с данными целочисленного типа (числа от 0 до 100).\n",
        "\n",
        "Измените этот список так, что те числа, которые больше 50 - должны увеличиться на 100, а остальные - возвестись в квадрат.\n",
        "\n",
        "Примечание:\n",
        "\n",
        "1) С применением List comprehension и условием внутри"
      ]
    },
    {
      "cell_type": "code",
      "execution_count": 3,
      "metadata": {
        "id": "CP1EjgyDMZ14"
      },
      "outputs": [
        {
          "name": "stdout",
          "output_type": "stream",
          "text": [
            "45\t2025\n",
            "55\t155\n",
            "58\t158\n",
            "86\t186\n",
            "68\t168\n"
          ]
        }
      ],
      "source": [
        "# ваше решение\n",
        "from random import randint\n",
        "\n",
        "my_lst = []\n",
        "for i in range(5):\n",
        "    my_lst.append(randint(0, 100))\n",
        "    print(my_lst[i], end = \"\\t\")\n",
        "    if my_lst[i] > 50:\n",
        "        my_lst[i] += 100\n",
        "    else:\n",
        "        my_lst[i] **= 2\n",
        "    print(my_lst[i])"
      ]
    },
    {
      "cell_type": "markdown",
      "metadata": {
        "id": "PgOMMLLo2NDv"
      },
      "source": [
        "**Задание 2.**\n",
        "\n",
        "Создайте список с вложенными списками и преобразуйте в словарь, чтобы получилось:\n",
        "```\n",
        "id1:\n",
        "    name: ....\n",
        "    age: ....\n",
        "id2:\n",
        "    name: ....\n",
        "    age: ....\n",
        "id3:\n",
        "    name: ....\n",
        "    age: ....\n",
        "```\n",
        "\n",
        "Выведете с помощью цикла на экран:\n",
        "\n",
        "1) Все имена пользователей\n",
        "\n",
        "2) Средний возраст"
      ]
    },
    {
      "cell_type": "code",
      "execution_count": 6,
      "metadata": {
        "id": "01cpmMJb2g9p"
      },
      "outputs": [
        {
          "name": "stdout",
          "output_type": "stream",
          "text": [
            "{'id1': {'Name': 'Nik', 'age': 15},\n",
            " 'id2': {'Name': 'Kat', 'age': 16},\n",
            " 'id3': {'Name': 'Lok', 'age': 17}}\n"
          ]
        }
      ],
      "source": [
        "# ваше решение\n",
        "from pprint import pprint\n",
        "person_lst = [[\"id1\", \"Nik\", 15],\n",
        "              [\"id2\", \"Kat\", 16],\n",
        "              [\"id3\", \"Lok\", 17]]\n",
        "\n",
        "person_dict = dict()\n",
        "\n",
        "for i in person_lst:\n",
        "    person_dict[f\"{i[0]}\"] = {\n",
        "        \"Name\": i[1],\n",
        "        \"age\": i[2]\n",
        "    }\n",
        "\n",
        "pprint(person_dict)"
      ]
    }
  ],
  "metadata": {
    "colab": {
      "provenance": []
    },
    "kernelspec": {
      "display_name": "Python 3",
      "name": "python3"
    },
    "language_info": {
      "codemirror_mode": {
        "name": "ipython",
        "version": 3
      },
      "file_extension": ".py",
      "mimetype": "text/x-python",
      "name": "python",
      "nbconvert_exporter": "python",
      "pygments_lexer": "ipython3",
      "version": "3.11.5"
    }
  },
  "nbformat": 4,
  "nbformat_minor": 0
}
