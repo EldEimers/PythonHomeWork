{
  "cells": [
    {
      "cell_type": "markdown",
      "metadata": {
        "id": "bHZBF4qq_ktC"
      },
      "source": [
        "**Задание 1.**\n",
        "\n",
        "Создайте произвольный список длиной 5 с данными целочисленного типа (числа от 0 до 100).\n",
        "\n",
        "Измените этот список так, что те числа, которые больше 50 - должны увеличиться на 100, а остальные - возвестись в квадрат.\n",
        "\n",
        "Примечание:\n",
        "\n",
        "1) С применением List comprehension и условием внутри"
      ]
    },
    {
      "cell_type": "code",
      "execution_count": 16,
      "metadata": {
        "id": "CP1EjgyDMZ14"
      },
      "outputs": [
        {
          "name": "stdout",
          "output_type": "stream",
          "text": [
            "58\t158\n",
            "99\t199\n",
            "20\t400\n",
            "66\t166\n",
            "13\t169\n"
          ]
        }
      ],
      "source": [
        "# ваше решение\n",
        "from random import randint\n",
        "\n",
        "my_lst = []\n",
        "for i in range(5):\n",
        "    my_lst.append(randint(0, 100))\n",
        "    print(my_lst[i], end = \"\\t\")\n",
        "    if my_lst[i] > 50:\n",
        "        my_lst[i] += 100\n",
        "    else:\n",
        "        my_lst[i] **= 2\n",
        "    print(my_lst[i])"
      ]
    },
    {
      "cell_type": "markdown",
      "metadata": {
        "id": "PgOMMLLo2NDv"
      },
      "source": [
        "**Задание 2.**\n",
        "\n",
        "Создайте список с вложенными списками и преобразуйте в словарь, чтобы получилось:\n",
        "```\n",
        "id1:\n",
        "    name: ....\n",
        "    age: ....\n",
        "id2:\n",
        "    name: ....\n",
        "    age: ....\n",
        "id3:\n",
        "    name: ....\n",
        "    age: ....\n",
        "```\n",
        "\n",
        "Выведете с помощью цикла на экран:\n",
        "\n",
        "1) Все имена пользователей\n",
        "\n",
        "2) Средний возраст"
      ]
    },
    {
      "cell_type": "code",
      "execution_count": 38,
      "metadata": {
        "id": "01cpmMJb2g9p"
      },
      "outputs": [
        {
          "name": "stdout",
          "output_type": "stream",
          "text": [
            "{0: 15, 1: 16, 2: 17}\n"
          ]
        }
      ],
      "source": [
        "# ваше решение\n",
        "import pprint\n",
        "person_lst = [(\"Nik\", 15),\n",
        "              (\"Kat\", 16),\n",
        "              (\"Lok\", 17)]\n",
        "\n",
        "person_dict = dict.\n",
        "\n",
        "for i in range(len(person_lst)):\n",
        "    for j in range(len(person_lst[i])):\n",
        "        person_dict[j] = person_lst[1][j] \n",
        "        \n",
        "pprint.pprint(person_dict)\n",
        "#P.S. не осилил даже с костылями"
      ]
    }
  ],
  "metadata": {
    "colab": {
      "provenance": []
    },
    "kernelspec": {
      "display_name": "Python 3",
      "name": "python3"
    },
    "language_info": {
      "codemirror_mode": {
        "name": "ipython",
        "version": 3
      },
      "file_extension": ".py",
      "mimetype": "text/x-python",
      "name": "python",
      "nbconvert_exporter": "python",
      "pygments_lexer": "ipython3",
      "version": "3.11.5"
    }
  },
  "nbformat": 4,
  "nbformat_minor": 0
}
